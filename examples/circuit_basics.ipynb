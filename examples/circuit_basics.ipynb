{
 "cells": [
  {
   "cell_type": "markdown",
   "metadata": {},
   "source": [
    "# Circuit Models 101\n",
    "\n",
    "In this notebook, we will explore the basics of circuit models in AutoEIS. We will start by importing the necessary libraries."
   ]
  },
  {
   "cell_type": "code",
   "execution_count": 1,
   "metadata": {
    "execution": {
     "iopub.execute_input": "2025-05-15T01:08:49.043831Z",
     "iopub.status.busy": "2025-05-15T01:08:49.043588Z",
     "iopub.status.idle": "2025-05-15T01:08:51.119449Z",
     "shell.execute_reply": "2025-05-15T01:08:51.118432Z"
    }
   },
   "outputs": [],
   "source": [
    "import numpy as np\n",
    "import autoeis as ae\n",
    "ae.visualization.set_plot_style()"
   ]
  },
  {
   "cell_type": "markdown",
   "metadata": {},
   "source": [
    "## Circuit representation\n",
    "\n",
    "In AutoEIS, circuits are represented as strings. Please refer to [circuit notation](../circuit.md) for the syntax of the circuit string. Now, let's create a sample circuit string:"
   ]
  },
  {
   "cell_type": "code",
   "execution_count": 2,
   "metadata": {
    "execution": {
     "iopub.execute_input": "2025-05-15T01:08:51.123810Z",
     "iopub.status.busy": "2025-05-15T01:08:51.123046Z",
     "iopub.status.idle": "2025-05-15T01:08:51.147817Z",
     "shell.execute_reply": "2025-05-15T01:08:51.146908Z"
    }
   },
   "outputs": [],
   "source": [
    "circuit = \"R1-[P2,R3]-C4-[[R5,C6],[L7,R8]]-R2\""
   ]
  },
  {
   "cell_type": "markdown",
   "metadata": {},
   "source": [
    "We can visualize the circuit model using the `draw_circuit` function, which requires the `lcapy` package to be installed, and a working LaTeX installation. See [here](https://lcapy.readthedocs.io/en/latest/install.html) for more details."
   ]
  },
  {
   "cell_type": "code",
   "execution_count": 3,
   "metadata": {
    "execution": {
     "iopub.execute_input": "2025-05-15T01:08:51.150811Z",
     "iopub.status.busy": "2025-05-15T01:08:51.150479Z",
     "iopub.status.idle": "2025-05-15T01:08:51.176347Z",
     "shell.execute_reply": "2025-05-15T01:08:51.175728Z"
    }
   },
   "outputs": [
    {
     "name": "stdout",
     "output_type": "stream",
     "text": [
      "\u001b[2;36m[18:08:51]\u001b[0m\u001b[2;36m \u001b[0m\u001b[1;31mERROR   \u001b[0m lcapy is not installed. Please install it using `pip install\n",
      "\u001b[2;36m           \u001b[0m         lcapy`.                                                     \n"
     ]
    }
   ],
   "source": [
    "x = ae.visualization.draw_circuit(circuit)"
   ]
  },
  {
   "cell_type": "markdown",
   "metadata": {},
   "source": [
    "## Querying circuit strings\n",
    "\n",
    "Once you have the circuit string, you can run different queries on it. We're not going to explore all of available queries here, but we'll show you a few of the most common ones. To see the full list of available queries, check out the [API reference](../modules.rst).\n",
    "\n",
    "To get the list of components in the circuit, you can use the `get_component_labels` function:"
   ]
  },
  {
   "cell_type": "code",
   "execution_count": 4,
   "metadata": {
    "execution": {
     "iopub.execute_input": "2025-05-15T01:08:51.179414Z",
     "iopub.status.busy": "2025-05-15T01:08:51.179015Z",
     "iopub.status.idle": "2025-05-15T01:08:51.206130Z",
     "shell.execute_reply": "2025-05-15T01:08:51.205206Z"
    }
   },
   "outputs": [
    {
     "data": {
      "text/plain": [
       "['R1', 'P2', 'R3', 'C4', 'R5', 'C6', 'L7', 'R8', 'R2']"
      ]
     },
     "execution_count": 4,
     "metadata": {},
     "output_type": "execute_result"
    }
   ],
   "source": [
    "ae.parser.get_component_labels(circuit)"
   ]
  },
  {
   "cell_type": "markdown",
   "metadata": {},
   "source": [
    "(The impedance of) Each component is represented by one or more parameters. To get the list of parameters that fully describe the circuit, use the `get_parameter_labels` function:"
   ]
  },
  {
   "cell_type": "code",
   "execution_count": 5,
   "metadata": {
    "execution": {
     "iopub.execute_input": "2025-05-15T01:08:51.208495Z",
     "iopub.status.busy": "2025-05-15T01:08:51.208216Z",
     "iopub.status.idle": "2025-05-15T01:08:51.233255Z",
     "shell.execute_reply": "2025-05-15T01:08:51.232358Z"
    }
   },
   "outputs": [
    {
     "data": {
      "text/plain": [
       "['R1', 'P2w', 'P2n', 'R3', 'C4', 'R5', 'C6', 'L7', 'R8', 'R2']"
      ]
     },
     "execution_count": 5,
     "metadata": {},
     "output_type": "execute_result"
    }
   ],
   "source": [
    "ae.parser.get_parameter_labels(circuit)"
   ]
  },
  {
   "cell_type": "markdown",
   "metadata": {},
   "source": [
    "Note that components and parameters are not the same, despite the fact that for single-parameter components they're represented by the same string. For instance, `R1` is both a parameter and a component, but `P2` is a component, which is described by the parameters `P2w` and `P2n`."
   ]
  },
  {
   "cell_type": "markdown",
   "metadata": {},
   "source": [
    "You can also validate the circuit using the `validate_circuit` function in case you're not sure if the circuit is valid:"
   ]
  },
  {
   "cell_type": "code",
   "execution_count": 6,
   "metadata": {
    "execution": {
     "iopub.execute_input": "2025-05-15T01:08:51.236864Z",
     "iopub.status.busy": "2025-05-15T01:08:51.236309Z",
     "iopub.status.idle": "2025-05-15T01:08:51.259770Z",
     "shell.execute_reply": "2025-05-15T01:08:51.259140Z"
    }
   },
   "outputs": [
    {
     "data": {
      "text/plain": [
       "True"
      ]
     },
     "execution_count": 6,
     "metadata": {},
     "output_type": "execute_result"
    }
   ],
   "source": [
    "ae.parser.validate_circuit(circuit)"
   ]
  },
  {
   "cell_type": "markdown",
   "metadata": {},
   "source": [
    "Let's try to validate an invalid circuit string:"
   ]
  },
  {
   "cell_type": "code",
   "execution_count": 7,
   "metadata": {
    "execution": {
     "iopub.execute_input": "2025-05-15T01:08:51.262622Z",
     "iopub.status.busy": "2025-05-15T01:08:51.262335Z",
     "iopub.status.idle": "2025-05-15T01:08:51.590728Z",
     "shell.execute_reply": "2025-05-15T01:08:51.590131Z"
    },
    "tags": [
     "raises-exception"
    ]
   },
   "outputs": [
    {
     "ename": "AssertionError",
     "evalue": "Duplicate elements found: {'R1'}",
     "output_type": "error",
     "traceback": [
      "\u001b[0;31m---------------------------------------------------------------------------\u001b[0m",
      "\u001b[0;31mAssertionError\u001b[0m                            Traceback (most recent call last)",
      "Cell \u001b[0;32mIn[7], line 1\u001b[0m\n\u001b[0;32m----> 1\u001b[0m \u001b[43mae\u001b[49m\u001b[38;5;241;43m.\u001b[39;49m\u001b[43mparser\u001b[49m\u001b[38;5;241;43m.\u001b[39;49m\u001b[43mvalidate_circuit\u001b[49m\u001b[43m(\u001b[49m\u001b[38;5;124;43m\"\u001b[39;49m\u001b[38;5;124;43mR1-[R2,P3]-R1\u001b[39;49m\u001b[38;5;124;43m\"\u001b[39;49m\u001b[43m)\u001b[49m\n",
      "File \u001b[0;32m~/Code/AutoEIS/src/autoeis/parser.py:56\u001b[0m, in \u001b[0;36mvalidate_circuit\u001b[0;34m(circuit)\u001b[0m\n\u001b[1;32m     54\u001b[0m components \u001b[38;5;241m=\u001b[39m get_component_labels(circuit)\n\u001b[1;32m     55\u001b[0m duplicates \u001b[38;5;241m=\u001b[39m [e \u001b[38;5;28;01mfor\u001b[39;00m e \u001b[38;5;129;01min\u001b[39;00m components \u001b[38;5;28;01mif\u001b[39;00m components\u001b[38;5;241m.\u001b[39mcount(e) \u001b[38;5;241m>\u001b[39m \u001b[38;5;241m1\u001b[39m]\n\u001b[0;32m---> 56\u001b[0m \u001b[38;5;28;01massert\u001b[39;00m \u001b[38;5;129;01mnot\u001b[39;00m duplicates, \u001b[38;5;124mf\u001b[39m\u001b[38;5;124m\"\u001b[39m\u001b[38;5;124mDuplicate elements found: \u001b[39m\u001b[38;5;132;01m{\u001b[39;00m\u001b[38;5;28mset\u001b[39m(duplicates)\u001b[38;5;132;01m}\u001b[39;00m\u001b[38;5;124m\"\u001b[39m\n\u001b[1;32m     57\u001b[0m \u001b[38;5;66;03m# Test circuit is not empty\u001b[39;00m\n\u001b[1;32m     58\u001b[0m \u001b[38;5;28;01massert\u001b[39;00m \u001b[38;5;28mlen\u001b[39m(circuit) \u001b[38;5;241m>\u001b[39m \u001b[38;5;241m0\u001b[39m, \u001b[38;5;124m\"\u001b[39m\u001b[38;5;124mCircuit string is empty.\u001b[39m\u001b[38;5;124m\"\u001b[39m\n",
      "\u001b[0;31mAssertionError\u001b[0m: Duplicate elements found: {'R1'}"
     ]
    }
   ],
   "source": [
    "ae.parser.validate_circuit(\"R1-[R2,P3]-R1\")"
   ]
  },
  {
   "cell_type": "markdown",
   "metadata": {},
   "source": [
    "Another useful query is to compare two circuits to see if they are structurally equivalent. For instance, one would expect that `R1-R2` and `R2-R1` and `R5-R0` are equivalent, i.e., neither the order of appearance of the components nor the labels matter. This is useful for filtering out duplicate circuits, which may (and will) arise during circuit generation using evolutionary algorithms. You can do this using the `are_circuits_equivalent` function:"
   ]
  },
  {
   "cell_type": "code",
   "execution_count": 8,
   "metadata": {
    "execution": {
     "iopub.execute_input": "2025-05-15T01:08:51.594706Z",
     "iopub.status.busy": "2025-05-15T01:08:51.594355Z",
     "iopub.status.idle": "2025-05-15T01:08:51.621698Z",
     "shell.execute_reply": "2025-05-15T01:08:51.621135Z"
    }
   },
   "outputs": [],
   "source": [
    "circuit1 = \"R1-[P2,R3]-C4\"\n",
    "circuit2 = \"C4-R1-[R3,P2]\"\n",
    "circuit3 = \"C0-R5-[R9,P0]\"\n",
    "\n",
    "assert ae.utils.are_circuits_equivalent(circuit1, circuit2)\n",
    "assert ae.utils.are_circuits_equivalent(circuit1, circuit3)"
   ]
  },
  {
   "cell_type": "markdown",
   "metadata": {},
   "source": [
    "## Evaluating circuit strings\n",
    "\n",
    "Once you have a valid circuit string, you can calculate the EIS spectra of the circuit model by evaluating it at the frequency range of interest. To do this, you need to convert the circuit string to a function using the `generate_circuit_fn` function:"
   ]
  },
  {
   "cell_type": "code",
   "execution_count": 9,
   "metadata": {
    "execution": {
     "iopub.execute_input": "2025-05-15T01:08:51.624941Z",
     "iopub.status.busy": "2025-05-15T01:08:51.624588Z",
     "iopub.status.idle": "2025-05-15T01:08:51.645391Z",
     "shell.execute_reply": "2025-05-15T01:08:51.644759Z"
    }
   },
   "outputs": [],
   "source": [
    "circuit_fn = ae.utils.generate_circuit_fn(circuit)"
   ]
  },
  {
   "cell_type": "markdown",
   "metadata": {},
   "source": [
    "Now, let's calculate the EIS spectra for a few frequencies. For this, we also need to pass the parameters of the circuit model, for which we can use random values:"
   ]
  },
  {
   "cell_type": "code",
   "execution_count": 10,
   "metadata": {
    "execution": {
     "iopub.execute_input": "2025-05-15T01:08:51.647913Z",
     "iopub.status.busy": "2025-05-15T01:08:51.647655Z",
     "iopub.status.idle": "2025-05-15T01:08:51.671101Z",
     "shell.execute_reply": "2025-05-15T01:08:51.670481Z"
    }
   },
   "outputs": [
    {
     "data": {
      "text/plain": [
       "array([2.29063273-1.89528363e+02j, 2.26868187-4.08336470e+01j,\n",
       "       2.27253328-8.73689206e+00j, 2.44275063-1.83351695e+00j,\n",
       "       2.35865718-5.79458059e-01j, 2.14135818-2.06116973e-01j,\n",
       "       2.07421562-8.67146196e-02j, 2.02090117-6.20710202e-02j,\n",
       "       1.96623921-5.74792308e-02j, 1.91111314-5.58157265e-02j])"
      ]
     },
     "execution_count": 10,
     "metadata": {},
     "output_type": "execute_result"
    }
   ],
   "source": [
    "freq = np.logspace(-3, 3, 10)\n",
    "num_params = ae.parser.count_parameters(circuit)\n",
    "p = np.random.rand(num_params)\n",
    "Z = circuit_fn(freq, p)\n",
    "Z"
   ]
  }
 ],
 "metadata": {
  "kernelspec": {
   "display_name": ".venv",
   "language": "python",
   "name": "python3"
  },
  "language_info": {
   "codemirror_mode": {
    "name": "ipython",
    "version": 3
   },
   "file_extension": ".py",
   "mimetype": "text/x-python",
   "name": "python",
   "nbconvert_exporter": "python",
   "pygments_lexer": "ipython3",
   "version": "3.12.4"
  }
 },
 "nbformat": 4,
 "nbformat_minor": 2
}
