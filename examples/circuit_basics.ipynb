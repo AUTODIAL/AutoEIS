{
 "cells": [
  {
   "cell_type": "markdown",
   "metadata": {},
   "source": [
    "# Circuit models 101\n",
    "\n",
    "In this notebook, we will explore the basics of circuit models in AutoEIS. We will start by importing the necessary libraries."
   ]
  },
  {
   "cell_type": "code",
   "execution_count": 1,
   "metadata": {
    "execution": {
     "iopub.execute_input": "2024-04-13T11:02:21.208803Z",
     "iopub.status.busy": "2024-04-13T11:02:21.208244Z",
     "iopub.status.idle": "2024-04-13T11:02:24.374972Z",
     "shell.execute_reply": "2024-04-13T11:02:24.374460Z"
    }
   },
   "outputs": [],
   "source": [
    "import autoeis as ae\n",
    "ae.visualization.set_plot_style()"
   ]
  },
  {
   "cell_type": "markdown",
   "metadata": {},
   "source": [
    "## Circuit representation\n",
    "\n",
    "In AutoEIS, circuits are represented as strings. Please refer to [circuit notation](../circuit.md) for the syntax of the circuit string. Now, let's create a sample circuit string:"
   ]
  },
  {
   "cell_type": "code",
   "execution_count": 2,
   "metadata": {
    "execution": {
     "iopub.execute_input": "2024-04-13T11:02:24.377211Z",
     "iopub.status.busy": "2024-04-13T11:02:24.377064Z",
     "iopub.status.idle": "2024-04-13T11:02:24.378958Z",
     "shell.execute_reply": "2024-04-13T11:02:24.378617Z"
    }
   },
   "outputs": [],
   "source": [
    "circuit = \"R1-[P2,R3]-C4-[[R5,C6],[L7,R8]]-R2\""
   ]
  },
  {
   "cell_type": "markdown",
   "metadata": {},
   "source": [
    "We can visualize the circuit model using the `draw_circuit` function, which requires the `lcapy` package to be installed, and a working LaTeX installation. See [here](https://lcapy.readthedocs.io/en/latest/install.html) for more details."
   ]
  },
  {
   "cell_type": "code",
   "execution_count": 3,
   "metadata": {
    "execution": {
     "iopub.execute_input": "2024-04-13T11:02:24.380701Z",
     "iopub.status.busy": "2024-04-13T11:02:24.380612Z",
     "iopub.status.idle": "2024-04-13T11:02:24.388963Z",
     "shell.execute_reply": "2024-04-13T11:02:24.388561Z"
    }
   },
   "outputs": [
    {
     "name": "stdout",
     "output_type": "stream",
     "text": [
      "\u001b[2;36m[11:02:24]\u001b[0m\u001b[2;36m \u001b[0m\u001b[1;31mERROR   \u001b[0m lcapy is not installed. Please install it using `pip install\n",
      "\u001b[2;36m           \u001b[0m         lcapy`.                                                     \n"
     ]
    }
   ],
   "source": [
    "x = ae.visualization.draw_circuit(circuit)"
   ]
  },
  {
   "cell_type": "markdown",
   "metadata": {},
   "source": [
    "## Querying circuit strings\n",
    "\n",
    "Once you have the circuit string, you can run different queries on it. We're not going to explore all of available queries here, but we'll show you a few of the most common ones. To see the full list of available queries, check out the [API reference](../modules.rst).\n",
    "\n",
    "To get the list of components in the circuit, you can use the `get_component_labels` function:"
   ]
  },
  {
   "cell_type": "code",
   "execution_count": 4,
   "metadata": {
    "execution": {
     "iopub.execute_input": "2024-04-13T11:02:24.402584Z",
     "iopub.status.busy": "2024-04-13T11:02:24.402411Z",
     "iopub.status.idle": "2024-04-13T11:02:24.411570Z",
     "shell.execute_reply": "2024-04-13T11:02:24.411180Z"
    }
   },
   "outputs": [
    {
     "data": {
      "text/plain": [
       "['R1', 'P2', 'R3', 'C4', 'R5', 'C6', 'L7', 'R8', 'R2']"
      ]
     },
     "execution_count": 4,
     "metadata": {},
     "output_type": "execute_result"
    }
   ],
   "source": [
    "ae.parser.get_component_labels(circuit)"
   ]
  },
  {
   "cell_type": "markdown",
   "metadata": {},
   "source": [
    "(The impedance of) Each component is represented by one or more parameters. To get the list of parameters that fully describe the circuit, use the `get_parameter_labels` function:"
   ]
  },
  {
   "cell_type": "code",
   "execution_count": 5,
   "metadata": {
    "execution": {
     "iopub.execute_input": "2024-04-13T11:02:24.413399Z",
     "iopub.status.busy": "2024-04-13T11:02:24.413306Z",
     "iopub.status.idle": "2024-04-13T11:02:24.421864Z",
     "shell.execute_reply": "2024-04-13T11:02:24.421522Z"
    }
   },
   "outputs": [
    {
     "data": {
      "text/plain": [
       "['R1', 'P2w', 'P2n', 'R3', 'C4', 'R5', 'C6', 'L7', 'R8', 'R2']"
      ]
     },
     "execution_count": 5,
     "metadata": {},
     "output_type": "execute_result"
    }
   ],
   "source": [
    "ae.parser.get_parameter_labels(circuit)"
   ]
  },
  {
   "cell_type": "markdown",
   "metadata": {},
   "source": [
    "Note that components and parameters are not the same, despite the fact that for single-parameter components they're represented by the same string. For instance, `R1` is both a parameter and a component, but `P2` is a component, which is described by the parameters `P2w` and `P2n`."
   ]
  },
  {
   "cell_type": "markdown",
   "metadata": {},
   "source": [
    "You can also validate the circuit using the `validate_circuit` function in case you're not sure if the circuit is valid:"
   ]
  },
  {
   "cell_type": "code",
   "execution_count": 6,
   "metadata": {
    "execution": {
     "iopub.execute_input": "2024-04-13T11:02:24.423795Z",
     "iopub.status.busy": "2024-04-13T11:02:24.423698Z",
     "iopub.status.idle": "2024-04-13T11:02:24.426211Z",
     "shell.execute_reply": "2024-04-13T11:02:24.425853Z"
    }
   },
   "outputs": [
    {
     "data": {
      "text/plain": [
       "True"
      ]
     },
     "execution_count": 6,
     "metadata": {},
     "output_type": "execute_result"
    }
   ],
   "source": [
    "ae.parser.validate_circuit(circuit)"
   ]
  },
  {
   "cell_type": "markdown",
   "metadata": {},
   "source": [
    "Let's try to validate an invalid circuit string:"
   ]
  },
  {
   "cell_type": "code",
   "execution_count": 7,
   "metadata": {
    "execution": {
     "iopub.execute_input": "2024-04-13T11:02:24.427920Z",
     "iopub.status.busy": "2024-04-13T11:02:24.427827Z",
     "iopub.status.idle": "2024-04-13T11:02:24.650409Z",
     "shell.execute_reply": "2024-04-13T11:02:24.650006Z"
    },
    "tags": [
     "raises-exception"
    ]
   },
   "outputs": [
    {
     "ename": "AssertionError",
     "evalue": "Duplicate elements found: {'R1'}",
     "output_type": "error",
     "traceback": [
      "\u001b[0;31m---------------------------------------------------------------------------\u001b[0m",
      "\u001b[0;31mAssertionError\u001b[0m                            Traceback (most recent call last)",
      "Cell \u001b[0;32mIn[7], line 1\u001b[0m\n\u001b[0;32m----> 1\u001b[0m \u001b[43mae\u001b[49m\u001b[38;5;241;43m.\u001b[39;49m\u001b[43mparser\u001b[49m\u001b[38;5;241;43m.\u001b[39;49m\u001b[43mvalidate_circuit\u001b[49m\u001b[43m(\u001b[49m\u001b[38;5;124;43m\"\u001b[39;49m\u001b[38;5;124;43mR1-[R2,P3]-R1\u001b[39;49m\u001b[38;5;124;43m\"\u001b[39;49m\u001b[43m)\u001b[49m\n",
      "File \u001b[0;32m~/work/AutoEIS/AutoEIS/src/autoeis/parser.py:56\u001b[0m, in \u001b[0;36mvalidate_circuit\u001b[0;34m(circuit)\u001b[0m\n\u001b[1;32m     54\u001b[0m components \u001b[38;5;241m=\u001b[39m get_component_labels(circuit)\n\u001b[1;32m     55\u001b[0m duplicates \u001b[38;5;241m=\u001b[39m [e \u001b[38;5;28;01mfor\u001b[39;00m e \u001b[38;5;129;01min\u001b[39;00m components \u001b[38;5;28;01mif\u001b[39;00m components\u001b[38;5;241m.\u001b[39mcount(e) \u001b[38;5;241m>\u001b[39m \u001b[38;5;241m1\u001b[39m]\n\u001b[0;32m---> 56\u001b[0m \u001b[38;5;28;01massert\u001b[39;00m \u001b[38;5;129;01mnot\u001b[39;00m duplicates, \u001b[38;5;124mf\u001b[39m\u001b[38;5;124m\"\u001b[39m\u001b[38;5;124mDuplicate elements found: \u001b[39m\u001b[38;5;132;01m{\u001b[39;00m\u001b[38;5;28mset\u001b[39m(duplicates)\u001b[38;5;132;01m}\u001b[39;00m\u001b[38;5;124m\"\u001b[39m\n\u001b[1;32m     57\u001b[0m \u001b[38;5;66;03m# Test circuit is not empty\u001b[39;00m\n\u001b[1;32m     58\u001b[0m \u001b[38;5;28;01massert\u001b[39;00m \u001b[38;5;28mlen\u001b[39m(circuit) \u001b[38;5;241m>\u001b[39m \u001b[38;5;241m0\u001b[39m, \u001b[38;5;124m\"\u001b[39m\u001b[38;5;124mCircuit string is empty.\u001b[39m\u001b[38;5;124m\"\u001b[39m\n",
      "\u001b[0;31mAssertionError\u001b[0m: Duplicate elements found: {'R1'}"
     ]
    }
   ],
   "source": [
    "ae.parser.validate_circuit(\"R1-[R2,P3]-R1\")"
   ]
  }
 ],
 "metadata": {
  "kernelspec": {
   "display_name": ".venv",
   "language": "python",
   "name": "python3"
  },
  "language_info": {
   "codemirror_mode": {
    "name": "ipython",
    "version": 3
   },
   "file_extension": ".py",
   "mimetype": "text/x-python",
   "name": "python",
   "nbconvert_exporter": "python",
   "pygments_lexer": "ipython3",
   "version": "3.10.11"
  }
 },
 "nbformat": 4,
 "nbformat_minor": 2
}
