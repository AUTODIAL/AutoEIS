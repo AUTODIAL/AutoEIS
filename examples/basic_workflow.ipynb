{
 "cells": [
  {
   "cell_type": "markdown",
   "metadata": {},
   "source": [
    "# Detailed Workflow"
   ]
  },
  {
   "cell_type": "markdown",
   "metadata": {},
   "source": [
    "This notebook walks you through a typical AutoEIS workflow, from data loading to visualization and model ranking. In summary, the steps covered in this notebook are:\n",
    "\n",
    "- Load EIS data\n",
    "- Preprocess EIS data (removing outliers, etc.)\n",
    "- Generate a pool of equivalent circuit models\n",
    "- Fit model parameters to the EIS data using Bayesian inference\n",
    "- Rank models based on goodness-of-fit and complexity\n",
    "- Visualize the results"
   ]
  },
  {
   "cell_type": "markdown",
   "metadata": {},
   "source": [
    "## Set up the environment"
   ]
  },
  {
   "cell_type": "markdown",
   "metadata": {},
   "source": [
    "AutoEIS relies on `EquivalentCircuits.jl` package to perform the EIS analysis. The package is not written in Python, so we need to install it first. AutoEIS ships with `julia_helpers` module that helps to install and manage Julia dependencies with minimal user interaction. For convenience, installing Julia and the required packages is done automatically when you import `autoeis` for the first time. If you have Julia installed already (discoverable in system PATH), it'll get detected and used, otherwise, it'll be installed automatically."
   ]
  },
  {
   "cell_type": "markdown",
   "metadata": {},
   "source": [
    "<div class=\"alert alert-info\">\n",
    "\n",
    "Note\n",
    "\n",
    "If this is the first time you're importing AutoEIS, executing the next cell will take a while, outputting a lot of logs. Re-run the cell to get rid of the logs.\n",
    "\n",
    "</div>"
   ]
  },
  {
   "cell_type": "code",
   "execution_count": null,
   "metadata": {},
   "outputs": [],
   "source": [
    "import ipywidgets as widgets\n",
    "import matplotlib.pyplot as plt\n",
    "import numpy as np\n",
    "import numpyro\n",
    "import seaborn as sns\n",
    "from IPython.display import display\n",
    "\n",
    "import autoeis as ae\n",
    "\n",
    "ae.visualization.set_plot_style()\n",
    "\n",
    "# Set this to True if you're running the notebook locally\n",
    "interactive = True"
   ]
  },
  {
   "cell_type": "markdown",
   "metadata": {},
   "source": [
    "## Load EIS data"
   ]
  },
  {
   "cell_type": "markdown",
   "metadata": {},
   "source": [
    "Once the environment is set up, we can load the EIS data. You can use [`pyimpspec`](https://vyrjana.github.io/pyimpspec/guide_data.html) to load EIS data from a variety of popular formats. Eventually, AutoEIS requires two arrays: `Z` and `freq`. `Z` is a complex impedance array, and `freq` is a frequency array. Both arrays must be 1D and have the same length. The impedance array must be in Ohms, and the frequency array must be in Hz.\n",
    "\n",
    "For convenience, we provide a function `load_test_dataset()` in `autoeis.io` to load a test dataset. The function returns a tuple of `freq` and `Z`."
   ]
  },
  {
   "cell_type": "code",
   "execution_count": null,
   "metadata": {},
   "outputs": [],
   "source": [
    "freq, Z = ae.io.load_test_dataset()"
   ]
  },
  {
   "cell_type": "markdown",
   "metadata": {},
   "source": [
    "<div class=\"alert alert-info\">\n",
    "\n",
    "Note\n",
    "\n",
    "If your EIS data is stored as text, you can easily load them using `numpy.loadtxt`. See NumPy's documentation for more details.\n",
    "\n",
    "</div>"
   ]
  },
  {
   "cell_type": "markdown",
   "metadata": {},
   "source": [
    "Now let's plot the data using AutoEIS's built-in plotting function `plot_impedance_combo`. The function takes the impedance array and the frequency array as inputs. It will plot the impedance spectrum in the Nyquist plot and the Bode plot. All plotting functions in AutoEIS can either be directly called or an `Axes` object can be passed in to specify the plotting location.\n",
    "\n",
    "Alternatively, you can use separately call `plot_nyquist` and `plot_bode` functions to plot the Nyquist and Bode plots, in separate figures."
   ]
  },
  {
   "cell_type": "code",
   "execution_count": null,
   "metadata": {},
   "outputs": [],
   "source": [
    "ax = ae.visualization.plot_impedance_combo(freq, Z)\n",
    "\n",
    "# Alternative way to plot the EIS data\n",
    "# ax = ae.visualization.plot_nyquist(Z, fmt=\".\")\n",
    "# ax.set_title(\"Nyquist plot\")\n",
    "\n",
    "# ax = ae.visualization.plot_bode(freq, Z)\n",
    "# ax[0].figure.suptitle(\"Bode plot\")"
   ]
  },
  {
   "cell_type": "markdown",
   "metadata": {},
   "source": [
    "<div class=\"alert alert-info\">\n",
    "\n",
    "Note\n",
    "\n",
    "When plotting EIS data, much information can be lost if plotted on a linear scale (especially at high frequencies). It is recommended to plot the data on a logarithmic scale. You can do this by simply passing `log=True` to the plotting functions.\n",
    "\n",
    "</div>"
   ]
  },
  {
   "cell_type": "code",
   "execution_count": null,
   "metadata": {},
   "outputs": [],
   "source": [
    "ax = ae.visualization.plot_impedance_combo(freq, Z, log=True)"
   ]
  },
  {
   "cell_type": "markdown",
   "metadata": {},
   "source": [
    "## Preprocess impedance data\n",
    "Before performing the EIS analysis, we need to preprocess the impedance data. The preprocessing step is to remove outliers. AutoEIS provides a function to perform the preprocessing. As part of the preprocessing, the impedance measurements with a positive imaginary part are removed, and the rest of the data are filtered using linear KK validation. The function returns the filtered impedance array and the frequency array."
   ]
  },
  {
   "cell_type": "code",
   "execution_count": null,
   "metadata": {},
   "outputs": [],
   "source": [
    "freq, Z, aux = ae.utils.preprocess_impedance_data(freq, Z, tol_linKK=5e-2, return_aux=True)\n",
    "\n",
    "# NOTE: Since linKK could change `freq`, you should use `aux.freq` to plot the residuals\n",
    "ae.visualization.plot_linKK_residuals(aux.freq, aux.res.real, aux.res.imag)"
   ]
  },
  {
   "cell_type": "markdown",
   "metadata": {},
   "source": [
    "## Generate candidate equivalent circuits\n",
    "\n",
    "In this stage, AutoEIS generates a list of candidate equivalent circuits using a customized genetic algorithm (done via the package `EquivalentCircuits.jl`). The function takes the filtered impedance array and the frequency array as inputs. It returns a list of candidate equivalent circuits. The function has a few optional arguments that can be used to control the number of candidate circuits and the circuit types. The default number of candidate circuits is 10, and the default circuit types are resistors, capacitors, constant phase elements, and inductors. The function runs in parallel by default, but you can turn it off by setting `parallel=false`.\n",
    "\n",
    "<div class=\"alert alert-info\">\n",
    "\n",
    "Note\n",
    "\n",
    "Since running the genetic algorithm can be time-consuming, we have provided a pre-generated list of candidate circuits in this demo to get you started quickly. We've kept the flag as `True` for our integration tests to catch possible regressions. Set `use_pregenerated_circuits=True` in the cell below to use the pre-generated list.\n",
    "\n",
    "</div>"
   ]
  },
  {
   "cell_type": "code",
   "execution_count": null,
   "metadata": {},
   "outputs": [],
   "source": [
    "use_pregenerated_circuits = False\n",
    "\n",
    "if use_pregenerated_circuits:\n",
    "    circuits_unfiltered = ae.io.load_test_circuits()\n",
    "else:\n",
    "    kwargs = {\n",
    "        \"iters\": 36,\n",
    "        \"complexity\": 12,\n",
    "        \"population_size\": 100,\n",
    "        \"generations\": 30,\n",
    "        \"terminals\": \"RLP\",\n",
    "        \"tol\": 1e-2,\n",
    "        \"parallel\": True\n",
    "    }\n",
    "    circuits_unfiltered = ae.core.generate_equivalent_circuits(freq, Z, **kwargs)\n",
    "    # Since generating circuits is expensive, let's save the results to a CSV file\n",
    "    circuits_unfiltered.to_csv(\"circuits_unfiltered.csv\", index=False)\n",
    "    # To load from file, uncomment the next 2 lines (line 2 is to convert str -> Python objects)\n",
    "    # circuits_unfiltered = pd.read_csv(\"circuits_unfiltered.csv\")\n",
    "    # circuits_unfiltered[\"Parameters\"] = circuits_unfiltered[\"Parameters\"].apply(eval)\n",
    "\n",
    "circuits_unfiltered"
   ]
  },
  {
   "cell_type": "markdown",
   "metadata": {},
   "source": [
    "## Filter candidate equivalent circuits\n",
    "\n",
    "Note that all these circuits generated by the GEP process probably fit the data well, but they may not be physically meaningful. Therefore, we need to filter them to find the ones that are most plausible. AutoEIS uses \"statistical plausibility\" as a proxy for gauging \"physical plausibility\". To this end, AutoEIS provides a function to filter the candidate circuits based on some heuristics (read our [paper](https://doi.org/10.1149/1945-7111/aceab2) for the exact steps and the supporting rationale)."
   ]
  },
  {
   "cell_type": "code",
   "execution_count": null,
   "metadata": {},
   "outputs": [],
   "source": [
    "circuits = ae.core.filter_implausible_circuits(circuits_unfiltered)\n",
    "# Let's save the filtered circuits to a CSV file as well\n",
    "circuits.to_csv(\"circuits_filtered.csv\", index=False)\n",
    "# To load from file, uncomment the next 2 lines (line 2 is to convert str -> Python objects)\n",
    "# circuits = pd.read_csv(\"circuits_filtered.csv\")\n",
    "# circuits[\"Parameters\"] = circuits[\"Parameters\"].apply(eval)\n",
    "circuits"
   ]
  },
  {
   "cell_type": "markdown",
   "metadata": {},
   "source": [
    "## Perform Bayesian inference\n",
    "\n",
    "Now that we have narrowed down the candidate circuits to a few good ones, we can perform Bayesian inference to find the ones that are statistically most plausible."
   ]
  },
  {
   "cell_type": "code",
   "execution_count": null,
   "metadata": {},
   "outputs": [],
   "source": [
    "results = ae.core.perform_bayesian_inference(circuits, freq, Z)"
   ]
  },
  {
   "cell_type": "markdown",
   "metadata": {},
   "source": [
    "## Visualize results\n",
    "\n",
    "Now, let's take a look at the results. `perform_bayesian_inference` returns a list of `InferenceResult` objects. Each `InferenceResult` object contains all the information about the Bayesian inference, including the posterior distribution, the prior distribution, the likelihood function, the trace, and the summary statistics.\n",
    "\n",
    "Before we visualize the results, let's take a look at the summary statistics. The summary statistics are the mean, the standard deviation, and the 95% credible interval of the posterior distribution. The summary statistics are useful for quickly gauging the uncertainty of the parameters."
   ]
  },
  {
   "cell_type": "code",
   "execution_count": null,
   "metadata": {},
   "outputs": [],
   "source": [
    "for result in results:\n",
    "    if result.converged:\n",
    "        ae.visualization.print_summary_statistics(result.mcmc, result.circuit)"
   ]
  },
  {
   "cell_type": "markdown",
   "metadata": {},
   "source": [
    "Note that some rows have been highlighted in yellow, indicating that the standard deviation is greater than the mean. This is not necessarily a bad thing, but it screams \"caution\" due to the high uncertainty. In this case, we need to check the data and the model to see if there is anything wrong. For example, the data may contain outliers, or the model may be overparameterized.\n",
    "\n",
    "Before we investigate the posteriors for individual circuit components for each circuit, let's take a bird's eye view of the results, so you have a general feeling about which circuits are generally better, and which ones are worse. For this purpose, we first need to evaluate the circuits based on some common metrics, and then rank them accordingly:"
   ]
  },
  {
   "cell_type": "code",
   "execution_count": null,
   "metadata": {},
   "outputs": [],
   "source": [
    "# We first need to augment the circuits dataframe with MCMC results\n",
    "circuits[\"InferenceResult\"] = results\n",
    "\n",
    "# Now, we can compute the fitness metrics, then rank/visualize accordingly\n",
    "circuits = ae.core.compute_fitness_metrics(circuits, freq, Z)\n",
    "ae.visualization.print_inference_results(circuits)"
   ]
  },
  {
   "cell_type": "markdown",
   "metadata": {},
   "source": [
    "Now, let's take one step further and visualize the results. To get an overview of the results, we can plot the posterior distributions of the parameters as well as the trace plots. It's an oversimplification, but basically, a good posterior distribution should be unimodal and symmetric, and the trace plot should be stationary. In probabilistic terms, this means that given the circuit model, the data are informative about the parameters, and the MCMC algorithm has converged. \n",
    "\n",
    "On the other hand, if the posterior distribution is multimodal or skewed, or the trace plot is not stationary, it means that the data are not informative about the parameters, and the MCMC algorithm has not converged. In this case, we need to check the data and the model to see if there is anything wrong. For example, the data may contain outliers, or the model may be overparameterized.\n",
    "\n",
    "<div class=\"alert alert-info\">\n",
    "\n",
    "Note\n",
    "\n",
    "For the following cell to work, you need to set `interactive=True` at the beginning of the notebook. It's turned off by default since GitHub doesn't render interactive plots.\n",
    "\n",
    "</div>"
   ]
  },
  {
   "cell_type": "code",
   "execution_count": null,
   "metadata": {},
   "outputs": [],
   "source": [
    "def plot_trace(samples):\n",
    "    \"\"\"Plots the posterior and trace of a variable in the MCMC sampler.\"\"\"\n",
    "    output = widgets.Output()\n",
    "    with output:\n",
    "        fig, ax = plt.subplots(ncols=2, figsize=(9, 3))\n",
    "        log_scale = bool(np.std(samples) / np.median(samples) > 2)\n",
    "        kwargs_hist = {\n",
    "            \"stat\": \"density\",\n",
    "            \"log_scale\": log_scale,\n",
    "            \"color\": \"lightblue\",\n",
    "            \"bins\": 25,\n",
    "        }\n",
    "        # ax[0] -> posterior, ax[1] -> trace\n",
    "        sns.histplot(samples, **kwargs_hist, ax=ax[0])\n",
    "        kwargs_kde = {\"log_scale\": log_scale, \"color\": \"red\"}\n",
    "        sns.kdeplot(samples, **kwargs_kde, ax=ax[0])\n",
    "        # Plot trace\n",
    "        ax[1].plot(samples, alpha=0.5)\n",
    "        ax[1].set_yscale(\"log\" if log_scale else \"linear\")\n",
    "        plt.show(fig)\n",
    "    return output\n",
    "\n",
    "\n",
    "def plot_trace_all(mcmc: \"numpyro.MCMC\", circuit: str):\n",
    "    \"\"\"Plots the posterior and trace of all variables in the MCMC sampler.\"\"\"\n",
    "    variables = ae.parser.get_parameter_labels(circuit)\n",
    "    samples = mcmc.get_samples()\n",
    "    children = [plot_trace(samples[var]) for var in variables]\n",
    "    tab = widgets.Tab()\n",
    "    tab.children = children\n",
    "    tab.titles = variables\n",
    "    return tab\n",
    "\n",
    "\n",
    "def dropdown_trace_plots():\n",
    "    \"\"\"Creates a dropdown menu to select a circuit and plot its trace.\"\"\"\n",
    "\n",
    "    def on_dropdown_clicked(change):\n",
    "        with output:\n",
    "            output.clear_output()\n",
    "            idx = circuits_list.index(change.new)\n",
    "            plot = trace_plots[idx]\n",
    "            display(plot)\n",
    "\n",
    "    dropdown = widgets.Dropdown(\n",
    "        description=\"Circuit:\", options=circuits_list, value=circuits_list[0]\n",
    "    )\n",
    "    output = widgets.Output(layout={\"width\": \"850px\"})\n",
    "    dropdown.observe(on_dropdown_clicked, names=\"value\")\n",
    "    display(dropdown, output)\n",
    "\n",
    "    # Default to the first circuit\n",
    "    with output:\n",
    "        display(trace_plots[0])\n",
    "\n",
    "\n",
    "# Cache rendered plots to avoid re-rendering\n",
    "circuits_list = circuits[\"circuitstring\"].tolist()\n",
    "trace_plots = []\n",
    "\n",
    "for i, row in circuits.iterrows():\n",
    "    circuit = row[\"circuitstring\"]\n",
    "    mcmc = row[\"InferenceResult\"].mcmc\n",
    "    if row[\"converged\"]:\n",
    "        trace_plots.append(plot_trace_all(mcmc, circuit))\n",
    "    else:\n",
    "        trace_plots.append(\"Inference failed\")\n",
    "\n",
    "if interactive:\n",
    "    dropdown_trace_plots()"
   ]
  },
  {
   "cell_type": "markdown",
   "metadata": {},
   "source": [
    "The functions defined in the above cell are used to make the interactive dropdown menu. The dropdown menu lets you select a circuit model, and shows the posterior distributions of the parameters as well as the trace plots. The dropdown menu is useful for quickly comparing the results of different circuit models. Running this cell for the first time may take a while (~ 5 seconds per circuit), but once run, all the plots will be cached.\n",
    "\n",
    "The distributions for the most part look okay, although in some cases (like R2 and R4 in the first circuit) the span is quite large (~ few orders of magnitude). Nevertheless, the distributions are bell-shaped. The trace plots also look stationary.\n",
    "\n",
    "Now, let's take a look at the posterior predictive distributions. \"Posterior predictive\" is a fancy term for \"model prediction\", meaning that after we have performed Bayesian inference, we can use the posterior distribution to make predictions. In this case, we can use the posterior distribution to predict the impedance spectrum and compare it with our measurements and see how well they match. After all, all the posteriors might look good (bell-shaped, no multimodality, etc.) but if the model predictions don't match the data, then the model is not good.\n",
    "\n",
    "<div class=\"alert alert-info\">\n",
    "\n",
    "Note\n",
    "\n",
    "For the following cell to work, you need to set `interactive=True` at the beginning of the notebook. It's turned off by default since GitHub doesn't render interactive plots.\n",
    "\n",
    "</div>"
   ]
  },
  {
   "cell_type": "code",
   "execution_count": null,
   "metadata": {},
   "outputs": [],
   "source": [
    "def plot_nyquist(mcmc: \"numpyro.MCMC\", circuit: str):\n",
    "    \"\"\"Plots Nyquist plot of the circuit using the median of the posteriors.\"\"\"\n",
    "    # Compute circuit impedance using median of posteriors\n",
    "    samples = mcmc.get_samples()\n",
    "    variables = ae.parser.get_parameter_labels(circuit)\n",
    "    percentiles = [10, 50, 90]\n",
    "    params_list = [[np.percentile(samples[v], p) for v in variables] for p in percentiles]\n",
    "    circuit_fn = ae.utils.generate_circuit_fn(circuit)\n",
    "    Zsim_list = [circuit_fn(freq, params) for params in params_list]\n",
    "    # Plot Nyquist plot\n",
    "    fig, ax = plt.subplots(figsize=(5.5, 4))\n",
    "    for p, Zsim in zip(percentiles, Zsim_list):\n",
    "        ae.visualization.plot_nyquist(Zsim, fmt=\"-\", label=f\"model ({p}%)\", ax=ax)\n",
    "    ae.visualization.plot_nyquist(Z, fmt=\".\", label=\"measured\", ax=ax)\n",
    "    # Next line is necessary to avoid plotting the first time\n",
    "    plt.close(fig)\n",
    "    return fig\n",
    "\n",
    "\n",
    "def dropdown_nyquist_plots():\n",
    "    \"\"\"Creates a dropdown menu to select a circuit and plot its Nyquist plot.\"\"\"\n",
    "\n",
    "    def on_change(change):\n",
    "        with output:\n",
    "            output.clear_output()\n",
    "            idx = circuits_list.index(change.new)\n",
    "            fig = nyquist_plots[idx]\n",
    "            display(fig)\n",
    "\n",
    "    output = widgets.Output(layout={\"width\": \"550px\"})\n",
    "    dropdown = widgets.Dropdown(\n",
    "        options=circuits_list, value=circuits_list[0], description=\"Circuit:\"\n",
    "    )\n",
    "    dropdown.observe(on_change, names=\"value\")\n",
    "    display(dropdown, output)\n",
    "\n",
    "    # Default to the first circuit\n",
    "    with output:\n",
    "        display(nyquist_plots[0])\n",
    "\n",
    "\n",
    "# Cache rendered plots to avoid re-rendering\n",
    "circuits_list = circuits[\"circuitstring\"].tolist()\n",
    "nyquist_plots = []\n",
    "\n",
    "for i, row in circuits.iterrows():\n",
    "    circuit = row[\"circuitstring\"]\n",
    "    mcmc = row[\"InferenceResult\"].mcmc\n",
    "    if row[\"converged\"]:\n",
    "        nyquist_plots.append(plot_nyquist(mcmc, circuit))\n",
    "    else:\n",
    "        nyquist_plots.append(\"Inference failed\")\n",
    "\n",
    "if interactive:\n",
    "    dropdown_nyquist_plots()"
   ]
  }
 ],
 "metadata": {
  "kernelspec": {
   "display_name": ".venv",
   "language": "python",
   "name": "python3"
  },
  "language_info": {
   "codemirror_mode": {
    "name": "ipython",
    "version": 3
   },
   "file_extension": ".py",
   "mimetype": "text/x-python",
   "name": "python",
   "nbconvert_exporter": "python",
   "pygments_lexer": "ipython3"
  }
 },
 "nbformat": 4,
 "nbformat_minor": 4
}
