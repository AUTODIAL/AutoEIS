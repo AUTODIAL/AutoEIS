{
 "cells": [
  {
   "cell_type": "markdown",
   "metadata": {},
   "source": [
    "# EIS Anlaysis Board 🧮"
   ]
  },
  {
   "cell_type": "markdown",
   "metadata": {},
   "source": [
    "## Set up the environment 🔌"
   ]
  },
  {
   "cell_type": "code",
   "execution_count": 1,
   "metadata": {
    "scrolled": true
   },
   "outputs": [
    {
     "name": "stdout",
     "output_type": "stream",
     "text": [
      "The autoreload extension is already loaded. To reload it, use:\n",
      "  %reload_ext autoreload\n"
     ]
    }
   ],
   "source": [
    "%load_ext autoreload\n",
    "%autoreload 2\n",
    "%config InlineBackend.figure_format = 'retina'\n",
    "\n",
    "import numpy as np\n",
    "import autoeis as ae\n",
    "from autoeis import julia_helpers\n",
    "\n",
    "ae.visualization.set_plotting_style()\n",
    "\n",
    "PATH_TESTDATA = \"testdata.txt\"\n",
    "PATH_EXPORT = \"results\"\n",
    "\n",
    "# If Julia executable not in PATH, add it here\n",
    "# julia_path = \"/home/amin/.juliaup/bin\"\n",
    "# julia_helpers.add_julia_to_PATH(julia_path)\n",
    "\n",
    "# Uncomment this line if you are running the code for the first time\n",
    "# julia_helpers.install(quiet=False)"
   ]
  },
  {
   "cell_type": "markdown",
   "metadata": {},
   "source": [
    "## Load EIS data 📈"
   ]
  },
  {
   "cell_type": "code",
   "execution_count": 2,
   "metadata": {},
   "outputs": [
    {
     "name": "stdout",
     "output_type": "stream",
     "text": [
      "/home/amin/Code/AutoEIS/example\n"
     ]
    },
    {
     "data": {
      "text/html": [
       "<div>\n",
       "<style scoped>\n",
       "    .dataframe tbody tr th:only-of-type {\n",
       "        vertical-align: middle;\n",
       "    }\n",
       "\n",
       "    .dataframe tbody tr th {\n",
       "        vertical-align: top;\n",
       "    }\n",
       "\n",
       "    .dataframe thead th {\n",
       "        text-align: right;\n",
       "    }\n",
       "</style>\n",
       "<table border=\"1\" class=\"dataframe\">\n",
       "  <thead>\n",
       "    <tr style=\"text-align: right;\">\n",
       "      <th></th>\n",
       "      <th>freq/Hz</th>\n",
       "      <th>Re(Z)/Ohm</th>\n",
       "      <th>-Im(Z)/Ohm</th>\n",
       "      <th>|Z|/Ohm</th>\n",
       "      <th>Phase(Z)/deg</th>\n",
       "      <th>time/s</th>\n",
       "      <th>&lt;Ewe&gt;/V</th>\n",
       "      <th>&lt;I&gt;/mA</th>\n",
       "    </tr>\n",
       "  </thead>\n",
       "  <tbody>\n",
       "    <tr>\n",
       "      <th>0</th>\n",
       "      <td>200019.480000</td>\n",
       "      <td>1.304171e+02</td>\n",
       "      <td>3.468001e+01</td>\n",
       "      <td>1.349493e+02</td>\n",
       "      <td>-14.891262</td>\n",
       "      <td>10602.358770</td>\n",
       "      <td>-0.040436</td>\n",
       "      <td>-0.000995</td>\n",
       "    </tr>\n",
       "    <tr>\n",
       "      <th>1</th>\n",
       "      <td>149716.770000</td>\n",
       "      <td>1.341570e+02</td>\n",
       "      <td>2.727420e+01</td>\n",
       "      <td>1.369014e+02</td>\n",
       "      <td>-11.491652</td>\n",
       "      <td>10602.733761</td>\n",
       "      <td>-0.040460</td>\n",
       "      <td>-0.000747</td>\n",
       "    </tr>\n",
       "    <tr>\n",
       "      <th>2</th>\n",
       "      <td>112070.290000</td>\n",
       "      <td>1.364035e+02</td>\n",
       "      <td>2.157776e+01</td>\n",
       "      <td>1.380997e+02</td>\n",
       "      <td>-8.989165</td>\n",
       "      <td>10603.232750</td>\n",
       "      <td>-0.040456</td>\n",
       "      <td>-0.000728</td>\n",
       "    </tr>\n",
       "    <tr>\n",
       "      <th>3</th>\n",
       "      <td>83886.695000</td>\n",
       "      <td>1.377822e+02</td>\n",
       "      <td>1.727571e+01</td>\n",
       "      <td>1.388611e+02</td>\n",
       "      <td>-7.146687</td>\n",
       "      <td>10603.607774</td>\n",
       "      <td>-0.040450</td>\n",
       "      <td>-0.000785</td>\n",
       "    </tr>\n",
       "    <tr>\n",
       "      <th>4</th>\n",
       "      <td>62792.953000</td>\n",
       "      <td>1.385546e+02</td>\n",
       "      <td>1.434104e+01</td>\n",
       "      <td>1.392948e+02</td>\n",
       "      <td>-5.909335</td>\n",
       "      <td>10603.981767</td>\n",
       "      <td>-0.040452</td>\n",
       "      <td>-0.000817</td>\n",
       "    </tr>\n",
       "    <tr>\n",
       "      <th>...</th>\n",
       "      <td>...</td>\n",
       "      <td>...</td>\n",
       "      <td>...</td>\n",
       "      <td>...</td>\n",
       "      <td>...</td>\n",
       "      <td>...</td>\n",
       "      <td>...</td>\n",
       "      <td>...</td>\n",
       "    </tr>\n",
       "    <tr>\n",
       "      <th>62</th>\n",
       "      <td>0.003185</td>\n",
       "      <td>3.891231e+06</td>\n",
       "      <td>1.812847e+06</td>\n",
       "      <td>4.292796e+06</td>\n",
       "      <td>-24.979877</td>\n",
       "      <td>14375.134820</td>\n",
       "      <td>-0.040596</td>\n",
       "      <td>0.000014</td>\n",
       "    </tr>\n",
       "    <tr>\n",
       "      <th>63</th>\n",
       "      <td>0.002385</td>\n",
       "      <td>4.124008e+06</td>\n",
       "      <td>1.907837e+06</td>\n",
       "      <td>4.543928e+06</td>\n",
       "      <td>-24.826071</td>\n",
       "      <td>15634.709475</td>\n",
       "      <td>-0.040596</td>\n",
       "      <td>0.000012</td>\n",
       "    </tr>\n",
       "    <tr>\n",
       "      <th>64</th>\n",
       "      <td>0.001785</td>\n",
       "      <td>4.443237e+06</td>\n",
       "      <td>2.000512e+06</td>\n",
       "      <td>4.872823e+06</td>\n",
       "      <td>-24.239067</td>\n",
       "      <td>17317.803800</td>\n",
       "      <td>-0.040598</td>\n",
       "      <td>0.000011</td>\n",
       "    </tr>\n",
       "    <tr>\n",
       "      <th>65</th>\n",
       "      <td>0.001336</td>\n",
       "      <td>4.779632e+06</td>\n",
       "      <td>2.148920e+06</td>\n",
       "      <td>5.240490e+06</td>\n",
       "      <td>-24.208651</td>\n",
       "      <td>19566.115223</td>\n",
       "      <td>-0.040601</td>\n",
       "      <td>0.000009</td>\n",
       "    </tr>\n",
       "    <tr>\n",
       "      <th>66</th>\n",
       "      <td>0.001000</td>\n",
       "      <td>5.170240e+06</td>\n",
       "      <td>2.345776e+06</td>\n",
       "      <td>5.677504e+06</td>\n",
       "      <td>-24.404139</td>\n",
       "      <td>22570.148765</td>\n",
       "      <td>-0.040602</td>\n",
       "      <td>0.000008</td>\n",
       "    </tr>\n",
       "  </tbody>\n",
       "</table>\n",
       "<p>67 rows × 8 columns</p>\n",
       "</div>"
      ],
      "text/plain": [
       "          freq/Hz     Re(Z)/Ohm    -Im(Z)/Ohm       |Z|/Ohm  Phase(Z)/deg  \\\n",
       "0   200019.480000  1.304171e+02  3.468001e+01  1.349493e+02    -14.891262   \n",
       "1   149716.770000  1.341570e+02  2.727420e+01  1.369014e+02    -11.491652   \n",
       "2   112070.290000  1.364035e+02  2.157776e+01  1.380997e+02     -8.989165   \n",
       "3    83886.695000  1.377822e+02  1.727571e+01  1.388611e+02     -7.146687   \n",
       "4    62792.953000  1.385546e+02  1.434104e+01  1.392948e+02     -5.909335   \n",
       "..            ...           ...           ...           ...           ...   \n",
       "62       0.003185  3.891231e+06  1.812847e+06  4.292796e+06    -24.979877   \n",
       "63       0.002385  4.124008e+06  1.907837e+06  4.543928e+06    -24.826071   \n",
       "64       0.001785  4.443237e+06  2.000512e+06  4.872823e+06    -24.239067   \n",
       "65       0.001336  4.779632e+06  2.148920e+06  5.240490e+06    -24.208651   \n",
       "66       0.001000  5.170240e+06  2.345776e+06  5.677504e+06    -24.404139   \n",
       "\n",
       "          time/s   <Ewe>/V    <I>/mA  \n",
       "0   10602.358770 -0.040436 -0.000995  \n",
       "1   10602.733761 -0.040460 -0.000747  \n",
       "2   10603.232750 -0.040456 -0.000728  \n",
       "3   10603.607774 -0.040450 -0.000785  \n",
       "4   10603.981767 -0.040452 -0.000817  \n",
       "..           ...       ...       ...  \n",
       "62  14375.134820 -0.040596  0.000014  \n",
       "63  15634.709475 -0.040596  0.000012  \n",
       "64  17317.803800 -0.040598  0.000011  \n",
       "65  19566.115223 -0.040601  0.000009  \n",
       "66  22570.148765 -0.040602  0.000008  \n",
       "\n",
       "[67 rows x 8 columns]"
      ]
     },
     "execution_count": 2,
     "metadata": {},
     "output_type": "execute_result"
    }
   ],
   "source": [
    "%cd example\n",
    "df = ae.load_eis_data(PATH_TESTDATA)\n",
    "\n",
    "frequencies = np.array(df[\"freq/Hz\"]).astype(float)\n",
    "reals = np.array(df[\"Re(Z)/Ohm\"]).astype(float)\n",
    "imags = -np.array(df[\"-Im(Z)/Ohm\"]).astype(float)\n",
    "\n",
    "impedance = reals + imags*1j\n",
    "df"
   ]
  },
  {
   "cell_type": "markdown",
   "metadata": {},
   "source": [
    "## EIS analysis 🪄"
   ]
  },
  {
   "cell_type": "code",
   "execution_count": 5,
   "metadata": {},
   "outputs": [
    {
     "data": {
      "text/html": [
       "<pre style=\"white-space:pre;overflow-x:auto;line-height:normal;font-family:Menlo,'DejaVu Sans Mono',consolas,'Courier New',monospace\"><span style=\"color: #7fbfbf; text-decoration-color: #7fbfbf\">[18:06:21] </span><span style=\"color: #800000; text-decoration-color: #800000\">WARNING </span> Default threshold <span style=\"font-weight: bold\">(</span><span style=\"color: #008080; text-decoration-color: #008080; font-weight: bold\">0.05</span><span style=\"font-weight: bold\">)</span> dropped too many points.                                 <a href=\"file:///home/amin/Code/AutoEIS/autoeis/_funcs.py\" target=\"_blank\"><span style=\"color: #7f7f7f; text-decoration-color: #7f7f7f\">_funcs.py</span></a><span style=\"color: #7f7f7f; text-decoration-color: #7f7f7f\">:</span><a href=\"file:///home/amin/Code/AutoEIS/autoeis/_funcs.py#343\" target=\"_blank\"><span style=\"color: #7f7f7f; text-decoration-color: #7f7f7f\">343</span></a>\n",
       "</pre>\n"
      ],
      "text/plain": [
       "\u001b[2;36m[18:06:21]\u001b[0m\u001b[2;36m \u001b[0m\u001b[31mWARNING \u001b[0m Default threshold \u001b[1m(\u001b[0m\u001b[1;36m0.05\u001b[0m\u001b[1m)\u001b[0m dropped too many points.                                 \u001b]8;id=234546;file:///home/amin/Code/AutoEIS/autoeis/_funcs.py\u001b\\\u001b[2m_funcs.py\u001b[0m\u001b]8;;\u001b\\\u001b[2m:\u001b[0m\u001b]8;id=993490;file:///home/amin/Code/AutoEIS/autoeis/_funcs.py#343\u001b\\\u001b[2m343\u001b[0m\u001b]8;;\u001b\\\n"
      ]
     },
     "metadata": {},
     "output_type": "display_data"
    }
   ],
   "source": [
    "ae.analyze_eis_data(impedance, frequencies, iters=1, saveto=PATH_EXPORT, plot=False)"
   ]
  }
 ],
 "metadata": {
  "kernelspec": {
   "display_name": "Python 3",
   "language": "python",
   "name": "python3"
  },
  "language_info": {
   "codemirror_mode": {
    "name": "ipython",
    "version": 3
   },
   "file_extension": ".py",
   "mimetype": "text/x-python",
   "name": "python",
   "nbconvert_exporter": "python",
   "pygments_lexer": "ipython3",
   "version": "3.10.13"
  },
  "toc": {
   "base_numbering": 1,
   "nav_menu": {},
   "number_sections": true,
   "sideBar": true,
   "skip_h1_title": false,
   "title_cell": "Table of Contents",
   "title_sidebar": "Contents",
   "toc_cell": false,
   "toc_position": {},
   "toc_section_display": true,
   "toc_window_display": false
  },
  "varInspector": {
   "cols": {
    "lenName": 16,
    "lenType": 16,
    "lenVar": 40
   },
   "kernels_config": {
    "python": {
     "delete_cmd_postfix": "",
     "delete_cmd_prefix": "del ",
     "library": "var_list.py",
     "varRefreshCmd": "print(var_dic_list())"
    },
    "r": {
     "delete_cmd_postfix": ") ",
     "delete_cmd_prefix": "rm(",
     "library": "var_list.r",
     "varRefreshCmd": "cat(var_dic_list()) "
    }
   },
   "types_to_exclude": [
    "module",
    "function",
    "builtin_function_or_method",
    "instance",
    "_Feature"
   ],
   "window_display": false
  }
 },
 "nbformat": 4,
 "nbformat_minor": 4
}
